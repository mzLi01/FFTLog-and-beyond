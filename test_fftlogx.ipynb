{
 "cells": [
  {
   "cell_type": "code",
   "execution_count": 1,
   "metadata": {},
   "outputs": [],
   "source": [
    "import numpy as np\n",
    "from fftlogx import hankel, fftlog\n",
    "\n",
    "import matplotlib.pyplot as plt"
   ]
  },
  {
   "cell_type": "code",
   "execution_count": 2,
   "metadata": {},
   "outputs": [],
   "source": [
    "k, pk = np.loadtxt('test/Pk_test', usecols=(0, 1), unpack=True)\n",
    "nu = 1.01\n",
    "myfftlog = fftlog(k, pk, nu=nu, c_window_width=0.25, N_pad=5000)"
   ]
  },
  {
   "cell_type": "code",
   "execution_count": 4,
   "metadata": {},
   "outputs": [],
   "source": [
    "l1 = np.array([4,6,4,6])\n",
    "l2 = np.array([6,4,4,6])\n",
    "r, Fr = myfftlog.jl1_jl2_neq(l1, l2, 0.5)\n",
    "\n",
    "fig, axes = plt.subplots(2, 2, figsize=(12, 10))\n",
    "\n",
    "for i, ax in enumerate(axes.flatten()):\n",
    "    r_mma, fr_mma = np.loadtxt(f'data/j{l1}j{l2}_mma.txt', usecols=(0, 1), unpack=True)\n",
    "    ax.loglog(r[i], Fr[i], label='fftlog')\n",
    "    ax.plot(r_mma, fr_mma, label='mathematica', ls='none', marker='o', markersize=3)\n",
    "    ax.set_title(f'$j_{{{l1}}}j_{{{l2}}}$')\n",
    "    ax.legend()\n",
    "plt.tight_layout()"
   ]
  },
  {
   "cell_type": "code",
   "execution_count": 51,
   "metadata": {},
   "outputs": [],
   "source": []
  },
  {
   "cell_type": "code",
   "execution_count": 67,
   "metadata": {},
   "outputs": [],
   "source": []
  }
 ],
 "metadata": {
  "kernelspec": {
   "display_name": "class",
   "language": "python",
   "name": "python3"
  },
  "language_info": {
   "codemirror_mode": {
    "name": "ipython",
    "version": 3
   },
   "file_extension": ".py",
   "mimetype": "text/x-python",
   "name": "python",
   "nbconvert_exporter": "python",
   "pygments_lexer": "ipython3",
   "version": "3.10.13"
  }
 },
 "nbformat": 4,
 "nbformat_minor": 2
}
